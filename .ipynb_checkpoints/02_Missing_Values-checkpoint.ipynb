{
 "cells": [
  {
   "cell_type": "markdown",
   "metadata": {},
   "source": [
    "<img src = \"tewnumpypandas.png\" height=\"550px\" width=\"550px\"/>"
   ]
  },
  {
   "cell_type": "markdown",
   "metadata": {},
   "source": [
    "## 2. How to Treat Missing Values in Data in Python\n",
    "How to figure out missing data. how to fill in missing data in python. how to count missing data and filter missing data.<br>\n",
    "Finding missing values is a fundamental step in preparing data for analysis. Once you have found the missing data you can make the decision on whether to fill them in or drop them.<br>\n",
    "Once identified, it is possible to then write a script to identify the missing values.<br><br>\n",
    "**Filling in missing values**<br>\n",
    "We could look at the information that was provided and take an average of the other responses and use that to fill in the missing data. It is much better to use an approximation, for the missing data, rather than just dropping the lines with missing values altogether.<br>\n",
    "**We are going to look at...**<br>\n",
    " - How to discover what is missing from your dataset\n",
    " - How to fill in those missing values\n",
    " - How to count up the missing values\n",
    " - How to filter out missing values"
   ]
  },
  {
   "cell_type": "code",
   "execution_count": 1,
   "metadata": {},
   "outputs": [],
   "source": [
    "import numpy as np\n",
    "import pandas as pd\n",
    "from pandas import Series, DataFrame"
   ]
  },
  {
   "cell_type": "markdown",
   "metadata": {},
   "source": [
    "#### Finding missing values (from your dataset)\n",
    "Numpy has a special value called name. It is meant to be used to represent missing values in a dataset. So first, we will create a Series object that contains missing values..."
   ]
  },
  {
   "cell_type": "code",
   "execution_count": 2,
   "metadata": {},
   "outputs": [],
   "source": [
    "#This is a good trick for creating missing values\n",
    "missing = np.nan # This is going to represent the missing values throughout our tut"
   ]
  },
  {
   "cell_type": "markdown",
   "metadata": {},
   "source": [
    "Now we will use the Series constructor to create a Series object and pass in some missing values. To create the Series, we pass it a list that contains the missing values... "
   ]
  },
  {
   "cell_type": "code",
   "execution_count": 3,
   "metadata": {},
   "outputs": [
    {
     "data": {
      "text/plain": [
       "0    Row 1\n",
       "1    Row 2\n",
       "2      NaN\n",
       "3    Row 4\n",
       "4    Row 6\n",
       "5      NaN\n",
       "6    Row 8\n",
       "dtype: object"
      ]
     },
     "execution_count": 3,
     "metadata": {},
     "output_type": "execute_result"
    }
   ],
   "source": [
    "series = Series(['Row 1', 'Row 2', missing, 'Row 4', 'Row 6', missing, 'Row 8'])\n",
    "series # This is our series object with the missing values"
   ]
  },
  {
   "cell_type": "markdown",
   "metadata": {},
   "source": [
    "**Using Pandas is show us the missing values**<br>\n",
    "**.isnull()**<br>\n",
    ".isnull() searches the dataset and returns True/False values to describe what values are missing from a dataset..."
   ]
  },
  {
   "cell_type": "code",
   "execution_count": 4,
   "metadata": {},
   "outputs": [
    {
     "data": {
      "text/plain": [
       "0    False\n",
       "1    False\n",
       "2     True\n",
       "3    False\n",
       "4    False\n",
       "5     True\n",
       "6    False\n",
       "dtype: bool"
      ]
     },
     "execution_count": 4,
     "metadata": {},
     "output_type": "execute_result"
    }
   ],
   "source": [
    "series.isnull()"
   ]
  },
  {
   "cell_type": "markdown",
   "metadata": {},
   "source": [
    ".isnull() goes through the dataset and, for each element, asks, is the value missing. It returns a new series of boolean values, False where a value exists and True where a value is missing.<br>\n",
    "As far as our dataset goes, we expect that the first two values would come back as False because we know that they contain data. However, the third record in the Series is missing and so .isnull() returns a True...and so on"
   ]
  },
  {
   "cell_type": "markdown",
   "metadata": {},
   "source": [
    "## How to fill in those missing values\n",
    "Once you have found your missing values, you can either fill them in yourself or drop them. We are going to make a DF to to investigate missing values but first our Numpy seed function..."
   ]
  },
  {
   "cell_type": "code",
   "execution_count": 5,
   "metadata": {},
   "outputs": [],
   "source": [
    "# This is used so that when we follow along at home, we get the same random numbers and results as he does\n",
    "np.random.seed(25) "
   ]
  },
  {
   "cell_type": "markdown",
   "metadata": {},
   "source": [
    "We are now going to use the df constructor to create our df & then pass in Numpy's random number generator. We want to create a df using 36 random numbers in a 6 x 6 matrix..."
   ]
  },
  {
   "cell_type": "code",
   "execution_count": 10,
   "metadata": {},
   "outputs": [
    {
     "data": {
      "text/html": [
       "<div>\n",
       "<style scoped>\n",
       "    .dataframe tbody tr th:only-of-type {\n",
       "        vertical-align: middle;\n",
       "    }\n",
       "\n",
       "    .dataframe tbody tr th {\n",
       "        vertical-align: top;\n",
       "    }\n",
       "\n",
       "    .dataframe thead th {\n",
       "        text-align: right;\n",
       "    }\n",
       "</style>\n",
       "<table border=\"1\" class=\"dataframe\">\n",
       "  <thead>\n",
       "    <tr style=\"text-align: right;\">\n",
       "      <th></th>\n",
       "      <th>0</th>\n",
       "      <th>1</th>\n",
       "      <th>2</th>\n",
       "      <th>3</th>\n",
       "      <th>4</th>\n",
       "      <th>5</th>\n",
       "    </tr>\n",
       "  </thead>\n",
       "  <tbody>\n",
       "    <tr>\n",
       "      <th>0</th>\n",
       "      <td>0.217002</td>\n",
       "      <td>-0.633439</td>\n",
       "      <td>0.246622</td>\n",
       "      <td>-1.939546</td>\n",
       "      <td>0.114060</td>\n",
       "      <td>-1.885341</td>\n",
       "    </tr>\n",
       "    <tr>\n",
       "      <th>1</th>\n",
       "      <td>0.243080</td>\n",
       "      <td>-0.705481</td>\n",
       "      <td>0.364628</td>\n",
       "      <td>-0.502952</td>\n",
       "      <td>-0.225752</td>\n",
       "      <td>-0.565538</td>\n",
       "    </tr>\n",
       "    <tr>\n",
       "      <th>2</th>\n",
       "      <td>0.103395</td>\n",
       "      <td>2.018408</td>\n",
       "      <td>1.094248</td>\n",
       "      <td>1.662434</td>\n",
       "      <td>-0.627453</td>\n",
       "      <td>1.621200</td>\n",
       "    </tr>\n",
       "    <tr>\n",
       "      <th>3</th>\n",
       "      <td>1.178133</td>\n",
       "      <td>-0.374879</td>\n",
       "      <td>-0.544329</td>\n",
       "      <td>0.287761</td>\n",
       "      <td>-0.205820</td>\n",
       "      <td>1.189988</td>\n",
       "    </tr>\n",
       "    <tr>\n",
       "      <th>4</th>\n",
       "      <td>0.728927</td>\n",
       "      <td>-0.222040</td>\n",
       "      <td>-1.622706</td>\n",
       "      <td>0.312541</td>\n",
       "      <td>-1.160421</td>\n",
       "      <td>0.313560</td>\n",
       "    </tr>\n",
       "    <tr>\n",
       "      <th>5</th>\n",
       "      <td>0.471998</td>\n",
       "      <td>0.577862</td>\n",
       "      <td>0.505407</td>\n",
       "      <td>-0.626488</td>\n",
       "      <td>-0.346369</td>\n",
       "      <td>-2.065942</td>\n",
       "    </tr>\n",
       "  </tbody>\n",
       "</table>\n",
       "</div>"
      ],
      "text/plain": [
       "          0         1         2         3         4         5\n",
       "0  0.217002 -0.633439  0.246622 -1.939546  0.114060 -1.885341\n",
       "1  0.243080 -0.705481  0.364628 -0.502952 -0.225752 -0.565538\n",
       "2  0.103395  2.018408  1.094248  1.662434 -0.627453  1.621200\n",
       "3  1.178133 -0.374879 -0.544329  0.287761 -0.205820  1.189988\n",
       "4  0.728927 -0.222040 -1.622706  0.312541 -1.160421  0.313560\n",
       "5  0.471998  0.577862  0.505407 -0.626488 -0.346369 -2.065942"
      ]
     },
     "execution_count": 10,
     "metadata": {},
     "output_type": "execute_result"
    }
   ],
   "source": [
    "df = DataFrame(np.random.randn(36).reshape(6,6))\n",
    "df"
   ]
  },
  {
   "cell_type": "markdown",
   "metadata": {},
   "source": [
    "**Creating missing values in our df**<br>\n",
    "This is great but it doean't have any missing values...here's how we create some"
   ]
  },
  {
   "cell_type": "code",
   "execution_count": 11,
   "metadata": {},
   "outputs": [
    {
     "data": {
      "text/html": [
       "<div>\n",
       "<style scoped>\n",
       "    .dataframe tbody tr th:only-of-type {\n",
       "        vertical-align: middle;\n",
       "    }\n",
       "\n",
       "    .dataframe tbody tr th {\n",
       "        vertical-align: top;\n",
       "    }\n",
       "\n",
       "    .dataframe thead th {\n",
       "        text-align: right;\n",
       "    }\n",
       "</style>\n",
       "<table border=\"1\" class=\"dataframe\">\n",
       "  <thead>\n",
       "    <tr style=\"text-align: right;\">\n",
       "      <th></th>\n",
       "      <th>0</th>\n",
       "      <th>1</th>\n",
       "      <th>2</th>\n",
       "      <th>3</th>\n",
       "      <th>4</th>\n",
       "      <th>5</th>\n",
       "    </tr>\n",
       "  </thead>\n",
       "  <tbody>\n",
       "    <tr>\n",
       "      <th>0</th>\n",
       "      <td>0.217002</td>\n",
       "      <td>-0.633439</td>\n",
       "      <td>0.246622</td>\n",
       "      <td>-1.939546</td>\n",
       "      <td>0.114060</td>\n",
       "      <td>-1.885341</td>\n",
       "    </tr>\n",
       "    <tr>\n",
       "      <th>1</th>\n",
       "      <td>0.243080</td>\n",
       "      <td>-0.705481</td>\n",
       "      <td>0.364628</td>\n",
       "      <td>-0.502952</td>\n",
       "      <td>-0.225752</td>\n",
       "      <td>NaN</td>\n",
       "    </tr>\n",
       "    <tr>\n",
       "      <th>2</th>\n",
       "      <td>0.103395</td>\n",
       "      <td>2.018408</td>\n",
       "      <td>1.094248</td>\n",
       "      <td>1.662434</td>\n",
       "      <td>-0.627453</td>\n",
       "      <td>NaN</td>\n",
       "    </tr>\n",
       "    <tr>\n",
       "      <th>3</th>\n",
       "      <td>NaN</td>\n",
       "      <td>-0.374879</td>\n",
       "      <td>-0.544329</td>\n",
       "      <td>0.287761</td>\n",
       "      <td>-0.205820</td>\n",
       "      <td>NaN</td>\n",
       "    </tr>\n",
       "    <tr>\n",
       "      <th>4</th>\n",
       "      <td>NaN</td>\n",
       "      <td>-0.222040</td>\n",
       "      <td>-1.622706</td>\n",
       "      <td>0.312541</td>\n",
       "      <td>-1.160421</td>\n",
       "      <td>NaN</td>\n",
       "    </tr>\n",
       "    <tr>\n",
       "      <th>5</th>\n",
       "      <td>NaN</td>\n",
       "      <td>0.577862</td>\n",
       "      <td>0.505407</td>\n",
       "      <td>-0.626488</td>\n",
       "      <td>-0.346369</td>\n",
       "      <td>-2.065942</td>\n",
       "    </tr>\n",
       "  </tbody>\n",
       "</table>\n",
       "</div>"
      ],
      "text/plain": [
       "          0         1         2         3         4         5\n",
       "0  0.217002 -0.633439  0.246622 -1.939546  0.114060 -1.885341\n",
       "1  0.243080 -0.705481  0.364628 -0.502952 -0.225752       NaN\n",
       "2  0.103395  2.018408  1.094248  1.662434 -0.627453       NaN\n",
       "3       NaN -0.374879 -0.544329  0.287761 -0.205820       NaN\n",
       "4       NaN -0.222040 -1.622706  0.312541 -1.160421       NaN\n",
       "5       NaN  0.577862  0.505407 -0.626488 -0.346369 -2.065942"
      ]
     },
     "execution_count": 11,
     "metadata": {},
     "output_type": "execute_result"
    }
   ],
   "source": [
    "df.loc[3:5, 0] = missing # Rows 3-5 at column zero are going to be set to missing\n",
    "df.loc[1:4, 5] = missing # Rows 1-4 at column five are going to be set to missing\n",
    "df"
   ]
  },
  {
   "cell_type": "markdown",
   "metadata": {},
   "source": [
    "**Filling those missing values**<br>\n",
    "Now that we have created some missing values in our df, we will look at pandas methods to help us fill them...<br>\n",
    "**.fillena()** - This will go through thge df looking for missing values and fill them with the value that we pass it as an argument..."
   ]
  },
  {
   "cell_type": "code",
   "execution_count": 12,
   "metadata": {},
   "outputs": [
    {
     "data": {
      "text/html": [
       "<div>\n",
       "<style scoped>\n",
       "    .dataframe tbody tr th:only-of-type {\n",
       "        vertical-align: middle;\n",
       "    }\n",
       "\n",
       "    .dataframe tbody tr th {\n",
       "        vertical-align: top;\n",
       "    }\n",
       "\n",
       "    .dataframe thead th {\n",
       "        text-align: right;\n",
       "    }\n",
       "</style>\n",
       "<table border=\"1\" class=\"dataframe\">\n",
       "  <thead>\n",
       "    <tr style=\"text-align: right;\">\n",
       "      <th></th>\n",
       "      <th>0</th>\n",
       "      <th>1</th>\n",
       "      <th>2</th>\n",
       "      <th>3</th>\n",
       "      <th>4</th>\n",
       "      <th>5</th>\n",
       "    </tr>\n",
       "  </thead>\n",
       "  <tbody>\n",
       "    <tr>\n",
       "      <th>0</th>\n",
       "      <td>0.217002</td>\n",
       "      <td>-0.633439</td>\n",
       "      <td>0.246622</td>\n",
       "      <td>-1.939546</td>\n",
       "      <td>0.114060</td>\n",
       "      <td>-1.885341</td>\n",
       "    </tr>\n",
       "    <tr>\n",
       "      <th>1</th>\n",
       "      <td>0.243080</td>\n",
       "      <td>-0.705481</td>\n",
       "      <td>0.364628</td>\n",
       "      <td>-0.502952</td>\n",
       "      <td>-0.225752</td>\n",
       "      <td>0.000000</td>\n",
       "    </tr>\n",
       "    <tr>\n",
       "      <th>2</th>\n",
       "      <td>0.103395</td>\n",
       "      <td>2.018408</td>\n",
       "      <td>1.094248</td>\n",
       "      <td>1.662434</td>\n",
       "      <td>-0.627453</td>\n",
       "      <td>0.000000</td>\n",
       "    </tr>\n",
       "    <tr>\n",
       "      <th>3</th>\n",
       "      <td>0.000000</td>\n",
       "      <td>-0.374879</td>\n",
       "      <td>-0.544329</td>\n",
       "      <td>0.287761</td>\n",
       "      <td>-0.205820</td>\n",
       "      <td>0.000000</td>\n",
       "    </tr>\n",
       "    <tr>\n",
       "      <th>4</th>\n",
       "      <td>0.000000</td>\n",
       "      <td>-0.222040</td>\n",
       "      <td>-1.622706</td>\n",
       "      <td>0.312541</td>\n",
       "      <td>-1.160421</td>\n",
       "      <td>0.000000</td>\n",
       "    </tr>\n",
       "    <tr>\n",
       "      <th>5</th>\n",
       "      <td>0.000000</td>\n",
       "      <td>0.577862</td>\n",
       "      <td>0.505407</td>\n",
       "      <td>-0.626488</td>\n",
       "      <td>-0.346369</td>\n",
       "      <td>-2.065942</td>\n",
       "    </tr>\n",
       "  </tbody>\n",
       "</table>\n",
       "</div>"
      ],
      "text/plain": [
       "          0         1         2         3         4         5\n",
       "0  0.217002 -0.633439  0.246622 -1.939546  0.114060 -1.885341\n",
       "1  0.243080 -0.705481  0.364628 -0.502952 -0.225752  0.000000\n",
       "2  0.103395  2.018408  1.094248  1.662434 -0.627453  0.000000\n",
       "3  0.000000 -0.374879 -0.544329  0.287761 -0.205820  0.000000\n",
       "4  0.000000 -0.222040 -1.622706  0.312541 -1.160421  0.000000\n",
       "5  0.000000  0.577862  0.505407 -0.626488 -0.346369 -2.065942"
      ]
     },
     "execution_count": 12,
     "metadata": {},
     "output_type": "execute_result"
    }
   ],
   "source": [
    "df_filled = df.fillna(0) # Our missing values should now ALL be zeros\n",
    "df_filled"
   ]
  },
  {
   "cell_type": "markdown",
   "metadata": {},
   "source": [
    "That worked very nicely.<br>\n",
    "You can also pass a dictionary to .fillna(). If we do this, the .fillna() can fill the missing values from each column with their own unique values on a column-by-column basis. Thjis sounds a lot more subtle than the way that we used it above but a lot more typing..."
   ]
  },
  {
   "cell_type": "code",
   "execution_count": 14,
   "metadata": {},
   "outputs": [
    {
     "data": {
      "text/html": [
       "<div>\n",
       "<style scoped>\n",
       "    .dataframe tbody tr th:only-of-type {\n",
       "        vertical-align: middle;\n",
       "    }\n",
       "\n",
       "    .dataframe tbody tr th {\n",
       "        vertical-align: top;\n",
       "    }\n",
       "\n",
       "    .dataframe thead th {\n",
       "        text-align: right;\n",
       "    }\n",
       "</style>\n",
       "<table border=\"1\" class=\"dataframe\">\n",
       "  <thead>\n",
       "    <tr style=\"text-align: right;\">\n",
       "      <th></th>\n",
       "      <th>0</th>\n",
       "      <th>1</th>\n",
       "      <th>2</th>\n",
       "      <th>3</th>\n",
       "      <th>4</th>\n",
       "      <th>5</th>\n",
       "    </tr>\n",
       "  </thead>\n",
       "  <tbody>\n",
       "    <tr>\n",
       "      <th>0</th>\n",
       "      <td>0.217002</td>\n",
       "      <td>-0.633439</td>\n",
       "      <td>0.246622</td>\n",
       "      <td>-1.939546</td>\n",
       "      <td>0.114060</td>\n",
       "      <td>-1.885341</td>\n",
       "    </tr>\n",
       "    <tr>\n",
       "      <th>1</th>\n",
       "      <td>0.243080</td>\n",
       "      <td>-0.705481</td>\n",
       "      <td>0.364628</td>\n",
       "      <td>-0.502952</td>\n",
       "      <td>-0.225752</td>\n",
       "      <td>1.250000</td>\n",
       "    </tr>\n",
       "    <tr>\n",
       "      <th>2</th>\n",
       "      <td>0.103395</td>\n",
       "      <td>2.018408</td>\n",
       "      <td>1.094248</td>\n",
       "      <td>1.662434</td>\n",
       "      <td>-0.627453</td>\n",
       "      <td>1.250000</td>\n",
       "    </tr>\n",
       "    <tr>\n",
       "      <th>3</th>\n",
       "      <td>0.100000</td>\n",
       "      <td>-0.374879</td>\n",
       "      <td>-0.544329</td>\n",
       "      <td>0.287761</td>\n",
       "      <td>-0.205820</td>\n",
       "      <td>1.250000</td>\n",
       "    </tr>\n",
       "    <tr>\n",
       "      <th>4</th>\n",
       "      <td>0.100000</td>\n",
       "      <td>-0.222040</td>\n",
       "      <td>-1.622706</td>\n",
       "      <td>0.312541</td>\n",
       "      <td>-1.160421</td>\n",
       "      <td>1.250000</td>\n",
       "    </tr>\n",
       "    <tr>\n",
       "      <th>5</th>\n",
       "      <td>0.100000</td>\n",
       "      <td>0.577862</td>\n",
       "      <td>0.505407</td>\n",
       "      <td>-0.626488</td>\n",
       "      <td>-0.346369</td>\n",
       "      <td>-2.065942</td>\n",
       "    </tr>\n",
       "  </tbody>\n",
       "</table>\n",
       "</div>"
      ],
      "text/plain": [
       "          0         1         2         3         4         5\n",
       "0  0.217002 -0.633439  0.246622 -1.939546  0.114060 -1.885341\n",
       "1  0.243080 -0.705481  0.364628 -0.502952 -0.225752  1.250000\n",
       "2  0.103395  2.018408  1.094248  1.662434 -0.627453  1.250000\n",
       "3  0.100000 -0.374879 -0.544329  0.287761 -0.205820  1.250000\n",
       "4  0.100000 -0.222040 -1.622706  0.312541 -1.160421  1.250000\n",
       "5  0.100000  0.577862  0.505407 -0.626488 -0.346369 -2.065942"
      ]
     },
     "execution_count": 14,
     "metadata": {},
     "output_type": "execute_result"
    }
   ],
   "source": [
    "df_filled02 = df.fillna({0:0.1, 5:1.25})\n",
    "df_filled02"
   ]
  },
  {
   "cell_type": "markdown",
   "metadata": {},
   "source": [
    "We have told .fillna() to fill any missing values in column zero with the value 0.1 and any missing values in column 5 with 1.25. TBH, I thought it was gonna be more subtle than that.<br><br>\n",
    "**.ffill() - The Fill Forward Method**<br>\n",
    "This fills forward missing values ie if there is a missing value in a column, it is filled with the last known value from the previous entry in that column..."
   ]
  },
  {
   "cell_type": "code",
   "execution_count": 15,
   "metadata": {},
   "outputs": [
    {
     "data": {
      "text/html": [
       "<div>\n",
       "<style scoped>\n",
       "    .dataframe tbody tr th:only-of-type {\n",
       "        vertical-align: middle;\n",
       "    }\n",
       "\n",
       "    .dataframe tbody tr th {\n",
       "        vertical-align: top;\n",
       "    }\n",
       "\n",
       "    .dataframe thead th {\n",
       "        text-align: right;\n",
       "    }\n",
       "</style>\n",
       "<table border=\"1\" class=\"dataframe\">\n",
       "  <thead>\n",
       "    <tr style=\"text-align: right;\">\n",
       "      <th></th>\n",
       "      <th>0</th>\n",
       "      <th>1</th>\n",
       "      <th>2</th>\n",
       "      <th>3</th>\n",
       "      <th>4</th>\n",
       "      <th>5</th>\n",
       "    </tr>\n",
       "  </thead>\n",
       "  <tbody>\n",
       "    <tr>\n",
       "      <th>0</th>\n",
       "      <td>0.217002</td>\n",
       "      <td>-0.633439</td>\n",
       "      <td>0.246622</td>\n",
       "      <td>-1.939546</td>\n",
       "      <td>0.114060</td>\n",
       "      <td>-1.885341</td>\n",
       "    </tr>\n",
       "    <tr>\n",
       "      <th>1</th>\n",
       "      <td>0.243080</td>\n",
       "      <td>-0.705481</td>\n",
       "      <td>0.364628</td>\n",
       "      <td>-0.502952</td>\n",
       "      <td>-0.225752</td>\n",
       "      <td>-1.885341</td>\n",
       "    </tr>\n",
       "    <tr>\n",
       "      <th>2</th>\n",
       "      <td>0.103395</td>\n",
       "      <td>2.018408</td>\n",
       "      <td>1.094248</td>\n",
       "      <td>1.662434</td>\n",
       "      <td>-0.627453</td>\n",
       "      <td>-1.885341</td>\n",
       "    </tr>\n",
       "    <tr>\n",
       "      <th>3</th>\n",
       "      <td>0.103395</td>\n",
       "      <td>-0.374879</td>\n",
       "      <td>-0.544329</td>\n",
       "      <td>0.287761</td>\n",
       "      <td>-0.205820</td>\n",
       "      <td>-1.885341</td>\n",
       "    </tr>\n",
       "    <tr>\n",
       "      <th>4</th>\n",
       "      <td>0.103395</td>\n",
       "      <td>-0.222040</td>\n",
       "      <td>-1.622706</td>\n",
       "      <td>0.312541</td>\n",
       "      <td>-1.160421</td>\n",
       "      <td>-1.885341</td>\n",
       "    </tr>\n",
       "    <tr>\n",
       "      <th>5</th>\n",
       "      <td>0.103395</td>\n",
       "      <td>0.577862</td>\n",
       "      <td>0.505407</td>\n",
       "      <td>-0.626488</td>\n",
       "      <td>-0.346369</td>\n",
       "      <td>-2.065942</td>\n",
       "    </tr>\n",
       "  </tbody>\n",
       "</table>\n",
       "</div>"
      ],
      "text/plain": [
       "          0         1         2         3         4         5\n",
       "0  0.217002 -0.633439  0.246622 -1.939546  0.114060 -1.885341\n",
       "1  0.243080 -0.705481  0.364628 -0.502952 -0.225752 -1.885341\n",
       "2  0.103395  2.018408  1.094248  1.662434 -0.627453 -1.885341\n",
       "3  0.103395 -0.374879 -0.544329  0.287761 -0.205820 -1.885341\n",
       "4  0.103395 -0.222040 -1.622706  0.312541 -1.160421 -1.885341\n",
       "5  0.103395  0.577862  0.505407 -0.626488 -0.346369 -2.065942"
      ]
     },
     "execution_count": 15,
     "metadata": {},
     "output_type": "execute_result"
    }
   ],
   "source": [
    "df_ffill = df.fillna(method = 'ffill')\n",
    "df_ffill"
   ]
  },
  {
   "cell_type": "markdown",
   "metadata": {},
   "source": [
    "Again, this worked very well but, of course, it is dependent on a previous value being available to ffill with"
   ]
  },
  {
   "cell_type": "markdown",
   "metadata": {},
   "source": [
    "## Counting missing values"
   ]
  },
  {
   "cell_type": "code",
   "execution_count": 16,
   "metadata": {},
   "outputs": [
    {
     "data": {
      "text/html": [
       "<div>\n",
       "<style scoped>\n",
       "    .dataframe tbody tr th:only-of-type {\n",
       "        vertical-align: middle;\n",
       "    }\n",
       "\n",
       "    .dataframe tbody tr th {\n",
       "        vertical-align: top;\n",
       "    }\n",
       "\n",
       "    .dataframe thead th {\n",
       "        text-align: right;\n",
       "    }\n",
       "</style>\n",
       "<table border=\"1\" class=\"dataframe\">\n",
       "  <thead>\n",
       "    <tr style=\"text-align: right;\">\n",
       "      <th></th>\n",
       "      <th>0</th>\n",
       "      <th>1</th>\n",
       "      <th>2</th>\n",
       "      <th>3</th>\n",
       "      <th>4</th>\n",
       "      <th>5</th>\n",
       "    </tr>\n",
       "  </thead>\n",
       "  <tbody>\n",
       "    <tr>\n",
       "      <th>0</th>\n",
       "      <td>0.217002</td>\n",
       "      <td>-0.633439</td>\n",
       "      <td>0.246622</td>\n",
       "      <td>-1.939546</td>\n",
       "      <td>0.114060</td>\n",
       "      <td>-1.885341</td>\n",
       "    </tr>\n",
       "    <tr>\n",
       "      <th>1</th>\n",
       "      <td>0.243080</td>\n",
       "      <td>-0.705481</td>\n",
       "      <td>0.364628</td>\n",
       "      <td>-0.502952</td>\n",
       "      <td>-0.225752</td>\n",
       "      <td>NaN</td>\n",
       "    </tr>\n",
       "    <tr>\n",
       "      <th>2</th>\n",
       "      <td>0.103395</td>\n",
       "      <td>2.018408</td>\n",
       "      <td>1.094248</td>\n",
       "      <td>1.662434</td>\n",
       "      <td>-0.627453</td>\n",
       "      <td>NaN</td>\n",
       "    </tr>\n",
       "    <tr>\n",
       "      <th>3</th>\n",
       "      <td>NaN</td>\n",
       "      <td>-0.374879</td>\n",
       "      <td>-0.544329</td>\n",
       "      <td>0.287761</td>\n",
       "      <td>-0.205820</td>\n",
       "      <td>NaN</td>\n",
       "    </tr>\n",
       "    <tr>\n",
       "      <th>4</th>\n",
       "      <td>NaN</td>\n",
       "      <td>-0.222040</td>\n",
       "      <td>-1.622706</td>\n",
       "      <td>0.312541</td>\n",
       "      <td>-1.160421</td>\n",
       "      <td>NaN</td>\n",
       "    </tr>\n",
       "    <tr>\n",
       "      <th>5</th>\n",
       "      <td>NaN</td>\n",
       "      <td>0.577862</td>\n",
       "      <td>0.505407</td>\n",
       "      <td>-0.626488</td>\n",
       "      <td>-0.346369</td>\n",
       "      <td>-2.065942</td>\n",
       "    </tr>\n",
       "  </tbody>\n",
       "</table>\n",
       "</div>"
      ],
      "text/plain": [
       "          0         1         2         3         4         5\n",
       "0  0.217002 -0.633439  0.246622 -1.939546  0.114060 -1.885341\n",
       "1  0.243080 -0.705481  0.364628 -0.502952 -0.225752       NaN\n",
       "2  0.103395  2.018408  1.094248  1.662434 -0.627453       NaN\n",
       "3       NaN -0.374879 -0.544329  0.287761 -0.205820       NaN\n",
       "4       NaN -0.222040 -1.622706  0.312541 -1.160421       NaN\n",
       "5       NaN  0.577862  0.505407 -0.626488 -0.346369 -2.065942"
      ]
     },
     "execution_count": 16,
     "metadata": {},
     "output_type": "execute_result"
    }
   ],
   "source": [
    "df # See the missing values in our df"
   ]
  },
  {
   "cell_type": "markdown",
   "metadata": {},
   "source": [
    "To see how many missing values we have in our df we can pass the .isnull() method on our df and then the .sum() method to give us an actual number. Once again, .isnull() will go through the whole df looking for missing values but this time .sum() will count them up and tell us exactly how many there are..."
   ]
  },
  {
   "cell_type": "code",
   "execution_count": 17,
   "metadata": {},
   "outputs": [
    {
     "data": {
      "text/plain": [
       "0    3\n",
       "1    0\n",
       "2    0\n",
       "3    0\n",
       "4    0\n",
       "5    4\n",
       "dtype: int64"
      ]
     },
     "execution_count": 17,
     "metadata": {},
     "output_type": "execute_result"
    }
   ],
   "source": [
    "df.isnull().sum() # This returns a count of the missing values for each column"
   ]
  },
  {
   "cell_type": "markdown",
   "metadata": {},
   "source": [
    "We can see the missing values visually but with most df's that won't be possible. However, it does show us the expected values that we can see for ourselves, so we can trust this method for larger df's."
   ]
  },
  {
   "cell_type": "markdown",
   "metadata": {},
   "source": [
    "## Filtering out missing values\n",
    "To identify and drop all columns, from the df, that contain missing values we call the .dropna() method on the df..."
   ]
  },
  {
   "cell_type": "code",
   "execution_count": 18,
   "metadata": {},
   "outputs": [
    {
     "data": {
      "text/html": [
       "<div>\n",
       "<style scoped>\n",
       "    .dataframe tbody tr th:only-of-type {\n",
       "        vertical-align: middle;\n",
       "    }\n",
       "\n",
       "    .dataframe tbody tr th {\n",
       "        vertical-align: top;\n",
       "    }\n",
       "\n",
       "    .dataframe thead th {\n",
       "        text-align: right;\n",
       "    }\n",
       "</style>\n",
       "<table border=\"1\" class=\"dataframe\">\n",
       "  <thead>\n",
       "    <tr style=\"text-align: right;\">\n",
       "      <th></th>\n",
       "      <th>1</th>\n",
       "      <th>2</th>\n",
       "      <th>3</th>\n",
       "      <th>4</th>\n",
       "    </tr>\n",
       "  </thead>\n",
       "  <tbody>\n",
       "    <tr>\n",
       "      <th>0</th>\n",
       "      <td>-0.633439</td>\n",
       "      <td>0.246622</td>\n",
       "      <td>-1.939546</td>\n",
       "      <td>0.114060</td>\n",
       "    </tr>\n",
       "    <tr>\n",
       "      <th>1</th>\n",
       "      <td>-0.705481</td>\n",
       "      <td>0.364628</td>\n",
       "      <td>-0.502952</td>\n",
       "      <td>-0.225752</td>\n",
       "    </tr>\n",
       "    <tr>\n",
       "      <th>2</th>\n",
       "      <td>2.018408</td>\n",
       "      <td>1.094248</td>\n",
       "      <td>1.662434</td>\n",
       "      <td>-0.627453</td>\n",
       "    </tr>\n",
       "    <tr>\n",
       "      <th>3</th>\n",
       "      <td>-0.374879</td>\n",
       "      <td>-0.544329</td>\n",
       "      <td>0.287761</td>\n",
       "      <td>-0.205820</td>\n",
       "    </tr>\n",
       "    <tr>\n",
       "      <th>4</th>\n",
       "      <td>-0.222040</td>\n",
       "      <td>-1.622706</td>\n",
       "      <td>0.312541</td>\n",
       "      <td>-1.160421</td>\n",
       "    </tr>\n",
       "    <tr>\n",
       "      <th>5</th>\n",
       "      <td>0.577862</td>\n",
       "      <td>0.505407</td>\n",
       "      <td>-0.626488</td>\n",
       "      <td>-0.346369</td>\n",
       "    </tr>\n",
       "  </tbody>\n",
       "</table>\n",
       "</div>"
      ],
      "text/plain": [
       "          1         2         3         4\n",
       "0 -0.633439  0.246622 -1.939546  0.114060\n",
       "1 -0.705481  0.364628 -0.502952 -0.225752\n",
       "2  2.018408  1.094248  1.662434 -0.627453\n",
       "3 -0.374879 -0.544329  0.287761 -0.205820\n",
       "4 -0.222040 -1.622706  0.312541 -1.160421\n",
       "5  0.577862  0.505407 -0.626488 -0.346369"
      ]
     },
     "execution_count": 18,
     "metadata": {},
     "output_type": "execute_result"
    }
   ],
   "source": [
    "dropped = df.dropna(axis = 1)\n",
    "dropped"
   ]
  },
  {
   "cell_type": "markdown",
   "metadata": {},
   "source": [
    "As we had the *<font color = blue>axis = 1</font>* argument, we have dropped column zero and column five as they contained missing data. This is quite excessive as it has the potential to lose most of the rows/columns out of your df and leave you with next to nothing as can be seen below..."
   ]
  },
  {
   "cell_type": "code",
   "execution_count": 19,
   "metadata": {},
   "outputs": [
    {
     "data": {
      "text/html": [
       "<div>\n",
       "<style scoped>\n",
       "    .dataframe tbody tr th:only-of-type {\n",
       "        vertical-align: middle;\n",
       "    }\n",
       "\n",
       "    .dataframe tbody tr th {\n",
       "        vertical-align: top;\n",
       "    }\n",
       "\n",
       "    .dataframe thead th {\n",
       "        text-align: right;\n",
       "    }\n",
       "</style>\n",
       "<table border=\"1\" class=\"dataframe\">\n",
       "  <thead>\n",
       "    <tr style=\"text-align: right;\">\n",
       "      <th></th>\n",
       "      <th>0</th>\n",
       "      <th>1</th>\n",
       "      <th>2</th>\n",
       "      <th>3</th>\n",
       "      <th>4</th>\n",
       "      <th>5</th>\n",
       "    </tr>\n",
       "  </thead>\n",
       "  <tbody>\n",
       "    <tr>\n",
       "      <th>0</th>\n",
       "      <td>0.217002</td>\n",
       "      <td>-0.633439</td>\n",
       "      <td>0.246622</td>\n",
       "      <td>-1.939546</td>\n",
       "      <td>0.11406</td>\n",
       "      <td>-1.885341</td>\n",
       "    </tr>\n",
       "  </tbody>\n",
       "</table>\n",
       "</div>"
      ],
      "text/plain": [
       "          0         1         2         3        4         5\n",
       "0  0.217002 -0.633439  0.246622 -1.939546  0.11406 -1.885341"
      ]
     },
     "execution_count": 19,
     "metadata": {},
     "output_type": "execute_result"
    }
   ],
   "source": [
    "dropped_rows = df.dropna(axis = 0)\n",
    "dropped_rows"
   ]
  },
  {
   "cell_type": "markdown",
   "metadata": {},
   "source": [
    "Seems like we only had one row that had a full set of data...not good"
   ]
  },
  {
   "cell_type": "markdown",
   "metadata": {},
   "source": [
    "**How to drop rows/columns that are missing all its values only**"
   ]
  },
  {
   "cell_type": "code",
   "execution_count": 20,
   "metadata": {},
   "outputs": [
    {
     "data": {
      "text/html": [
       "<div>\n",
       "<style scoped>\n",
       "    .dataframe tbody tr th:only-of-type {\n",
       "        vertical-align: middle;\n",
       "    }\n",
       "\n",
       "    .dataframe tbody tr th {\n",
       "        vertical-align: top;\n",
       "    }\n",
       "\n",
       "    .dataframe thead th {\n",
       "        text-align: right;\n",
       "    }\n",
       "</style>\n",
       "<table border=\"1\" class=\"dataframe\">\n",
       "  <thead>\n",
       "    <tr style=\"text-align: right;\">\n",
       "      <th></th>\n",
       "      <th>0</th>\n",
       "      <th>1</th>\n",
       "      <th>2</th>\n",
       "      <th>3</th>\n",
       "      <th>4</th>\n",
       "      <th>5</th>\n",
       "    </tr>\n",
       "  </thead>\n",
       "  <tbody>\n",
       "    <tr>\n",
       "      <th>0</th>\n",
       "      <td>0.217002</td>\n",
       "      <td>-0.633439</td>\n",
       "      <td>0.246622</td>\n",
       "      <td>-1.939546</td>\n",
       "      <td>0.114060</td>\n",
       "      <td>-1.885341</td>\n",
       "    </tr>\n",
       "    <tr>\n",
       "      <th>1</th>\n",
       "      <td>0.243080</td>\n",
       "      <td>-0.705481</td>\n",
       "      <td>0.364628</td>\n",
       "      <td>-0.502952</td>\n",
       "      <td>-0.225752</td>\n",
       "      <td>NaN</td>\n",
       "    </tr>\n",
       "    <tr>\n",
       "      <th>2</th>\n",
       "      <td>0.103395</td>\n",
       "      <td>2.018408</td>\n",
       "      <td>1.094248</td>\n",
       "      <td>1.662434</td>\n",
       "      <td>-0.627453</td>\n",
       "      <td>NaN</td>\n",
       "    </tr>\n",
       "    <tr>\n",
       "      <th>3</th>\n",
       "      <td>NaN</td>\n",
       "      <td>-0.374879</td>\n",
       "      <td>-0.544329</td>\n",
       "      <td>0.287761</td>\n",
       "      <td>-0.205820</td>\n",
       "      <td>NaN</td>\n",
       "    </tr>\n",
       "    <tr>\n",
       "      <th>4</th>\n",
       "      <td>NaN</td>\n",
       "      <td>-0.222040</td>\n",
       "      <td>-1.622706</td>\n",
       "      <td>0.312541</td>\n",
       "      <td>-1.160421</td>\n",
       "      <td>NaN</td>\n",
       "    </tr>\n",
       "    <tr>\n",
       "      <th>5</th>\n",
       "      <td>NaN</td>\n",
       "      <td>0.577862</td>\n",
       "      <td>0.505407</td>\n",
       "      <td>-0.626488</td>\n",
       "      <td>-0.346369</td>\n",
       "      <td>-2.065942</td>\n",
       "    </tr>\n",
       "  </tbody>\n",
       "</table>\n",
       "</div>"
      ],
      "text/plain": [
       "          0         1         2         3         4         5\n",
       "0  0.217002 -0.633439  0.246622 -1.939546  0.114060 -1.885341\n",
       "1  0.243080 -0.705481  0.364628 -0.502952 -0.225752       NaN\n",
       "2  0.103395  2.018408  1.094248  1.662434 -0.627453       NaN\n",
       "3       NaN -0.374879 -0.544329  0.287761 -0.205820       NaN\n",
       "4       NaN -0.222040 -1.622706  0.312541 -1.160421       NaN\n",
       "5       NaN  0.577862  0.505407 -0.626488 -0.346369 -2.065942"
      ]
     },
     "execution_count": 20,
     "metadata": {},
     "output_type": "execute_result"
    }
   ],
   "source": [
    "drop_all = df.dropna(how = 'all')\n",
    "drop_all"
   ]
  },
  {
   "cell_type": "markdown",
   "metadata": {},
   "source": [
    "Now we see that we have not lost any rows. This will only drop a row if ALL the values are missing. If only one value is present then the row will not be dropped.<br>\n",
    "Once again *<font color = blue> axis = 1 </font>* to drop columns with ALL missing values."
   ]
  },
  {
   "cell_type": "code",
   "execution_count": null,
   "metadata": {},
   "outputs": [],
   "source": []
  }
 ],
 "metadata": {
  "kernelspec": {
   "display_name": "Python 3",
   "language": "python",
   "name": "python3"
  },
  "language_info": {
   "codemirror_mode": {
    "name": "ipython",
    "version": 3
   },
   "file_extension": ".py",
   "mimetype": "text/x-python",
   "name": "python",
   "nbconvert_exporter": "python",
   "pygments_lexer": "ipython3",
   "version": "3.6.5"
  }
 },
 "nbformat": 4,
 "nbformat_minor": 2
}
